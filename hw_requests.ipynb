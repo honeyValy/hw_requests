{
 "cells": [
  {
   "cell_type": "code",
   "execution_count": 1,
   "id": "a095403a",
   "metadata": {},
   "outputs": [],
   "source": [
    "import requests\n",
    "from pprint import pprint\n",
    "import collections\n",
    "import operator"
   ]
  },
  {
   "cell_type": "markdown",
   "id": "996035c4",
   "metadata": {},
   "source": [
    "# Задание 1"
   ]
  },
  {
   "cell_type": "code",
   "execution_count": 2,
   "id": "cd8f77ba",
   "metadata": {},
   "outputs": [],
   "source": [
    "url = \"https://cdn.jsdelivr.net/gh/akabab/superhero-api@0.3.0/api/all.json\""
   ]
  },
  {
   "cell_type": "code",
   "execution_count": 3,
   "id": "a297f3da",
   "metadata": {},
   "outputs": [],
   "source": [
    "response = requests.get(url, timeout=10).json()"
   ]
  },
  {
   "cell_type": "code",
   "execution_count": 4,
   "id": "595bad13",
   "metadata": {},
   "outputs": [],
   "source": [
    "# Create a dictinary cinsists of name and intelligence \n",
    "common_info = {}\n",
    "for pers in response:\n",
    "    name = pers['name']\n",
    "    if name in ['Hulk', 'Captain America', 'Thanos']: \n",
    "        intelligence = pers['powerstats']['intelligence']\n",
    "        common_info[name] = intelligence"
   ]
  },
  {
   "cell_type": "code",
   "execution_count": 5,
   "id": "2d35f8eb",
   "metadata": {},
   "outputs": [
    {
     "data": {
      "text/plain": [
       "{'Captain America': 69, 'Hulk': 88, 'Thanos': 100}"
      ]
     },
     "execution_count": 5,
     "metadata": {},
     "output_type": "execute_result"
    }
   ],
   "source": [
    "common_info"
   ]
  },
  {
   "cell_type": "code",
   "execution_count": 6,
   "id": "984c62a0",
   "metadata": {},
   "outputs": [],
   "source": [
    "the_most_intelihence_character = sorted(common_info.items(), key=lambda x:operator.getitem(x,1), reverse=True)[0]"
   ]
  },
  {
   "cell_type": "code",
   "execution_count": 7,
   "id": "f1f68744",
   "metadata": {},
   "outputs": [
    {
     "name": "stdout",
     "output_type": "stream",
     "text": [
      "the most inteligence character is Thanos\n"
     ]
    }
   ],
   "source": [
    "#Ответ\n",
    "print(f'the most inteligence character is {the_most_intelihence_character[0]}')"
   ]
  },
  {
   "cell_type": "markdown",
   "id": "98286a81",
   "metadata": {},
   "source": [
    "# Задание 2"
   ]
  },
  {
   "cell_type": "code",
   "execution_count": 10,
   "id": "ca269035",
   "metadata": {},
   "outputs": [
    {
     "name": "stdout",
     "output_type": "stream",
     "text": [
      "<Response [201]>\n"
     ]
    }
   ],
   "source": [
    "class YaUploader:\n",
    "    def __init__(self, token: str):\n",
    "        self.token = token\n",
    "\n",
    "    def upload(self, file_path: str):\n",
    "        \"\"\"Метод загружает файлы по списку file_list на яндекс диск\"\"\"\n",
    "        # Тут ваша логика\n",
    "        # Функция может ничего не возвращать\n",
    "        upload_url = 'https://cloud-api.yandex.net/v1/disk/resources/upload'\n",
    "        headers = {'Content-Type':'application/json','Authorization':f'OAuth {self.token}'}\n",
    "        params = {\"path\":file_path, \"overwrite\":\"true\"}  \n",
    "        response_link = requests.get(upload_url, headers=headers, params=params).json()\n",
    "        href = response_link.get(\"href\", \"\")\n",
    "        response = requests.put(href, data=open(file_path, 'rb'))\n",
    "        print(response)\n",
    "        \n",
    "\n",
    "\n",
    "if __name__ == '__main__':\n",
    "    # Получить путь к загружаемому файлу и токен от пользователя\n",
    "    path_to_file = 'hw_file.txt' #путь до файла, который нужно загрузить на яндекс диск\n",
    "    #token = '' #нужно заполнить token\n",
    "    uploader = YaUploader(token)\n",
    "    result = uploader.upload(path_to_file)"
   ]
  },
  {
   "cell_type": "markdown",
   "id": "e5d3adbe",
   "metadata": {},
   "source": [
    "# Задание 3"
   ]
  },
  {
   "cell_type": "markdown",
   "id": "26cde570",
   "metadata": {},
   "source": [
    "### Необходимо вывести все вопросы за последние два дня и содержит тэг 'Python'"
   ]
  },
  {
   "cell_type": "code",
   "execution_count": 11,
   "id": "ebd06031",
   "metadata": {},
   "outputs": [],
   "source": [
    "import datetime"
   ]
  },
  {
   "cell_type": "code",
   "execution_count": 12,
   "id": "26384ff0",
   "metadata": {},
   "outputs": [],
   "source": [
    "start_date = (datetime.datetime.now() - datetime.timedelta(days=2)).strftime(\"%Y-%m-%d\")"
   ]
  },
  {
   "cell_type": "code",
   "execution_count": 13,
   "id": "7ffe9215",
   "metadata": {},
   "outputs": [
    {
     "data": {
      "text/plain": [
       "'2022-10-23'"
      ]
     },
     "execution_count": 13,
     "metadata": {},
     "output_type": "execute_result"
    }
   ],
   "source": [
    "start_date "
   ]
  },
  {
   "cell_type": "code",
   "execution_count": 14,
   "id": "4c314777",
   "metadata": {},
   "outputs": [],
   "source": [
    "end_date = datetime.datetime.now().strftime(\"%Y-%m-%d\")"
   ]
  },
  {
   "cell_type": "code",
   "execution_count": 15,
   "id": "47522645",
   "metadata": {},
   "outputs": [
    {
     "data": {
      "text/plain": [
       "'2022-10-25'"
      ]
     },
     "execution_count": 15,
     "metadata": {},
     "output_type": "execute_result"
    }
   ],
   "source": [
    "end_date"
   ]
  },
  {
   "cell_type": "code",
   "execution_count": 16,
   "id": "fee8ac2b",
   "metadata": {},
   "outputs": [],
   "source": [
    "url = f'https://api.stackexchange.com/2.3/search?fromdate={start_date}&todate={end_date}&order=desc&sort=activity&tagged=Python&site=stackoverflow'"
   ]
  },
  {
   "cell_type": "code",
   "execution_count": 17,
   "id": "0a0c4b11",
   "metadata": {},
   "outputs": [],
   "source": [
    "response = requests.get(url).json()"
   ]
  },
  {
   "cell_type": "code",
   "execution_count": 18,
   "id": "d024eb1b",
   "metadata": {},
   "outputs": [],
   "source": [
    "questions = [i['title'] for i in response['items']]"
   ]
  },
  {
   "cell_type": "code",
   "execution_count": 19,
   "id": "d9f7bfc6",
   "metadata": {},
   "outputs": [
    {
     "name": "stdout",
     "output_type": "stream",
     "text": [
      "['Python way of plotting a Tephigram and Hodograph',\n",
      " 'are setup() attributes supposed to be available?',\n",
      " 'Pytorch Computation Graphs build_graph() NOT working',\n",
      " 'Creating New Column with value of other columns based on condition on a '\n",
      " 'third Column in Pandas DataFrame',\n",
      " 'quicksort python sorting wrong',\n",
      " 'tkinter ttk Entry widget callback works only once',\n",
      " 'Changing title of a python plotly subplot highlighted, bold and different '\n",
      " 'color',\n",
      " 'My python blackjack game is not working as intended',\n",
      " 'Python aiohttp: Verify certificate Fingerprint only if other certificate '\n",
      " 'verifications fail, use Fingerprint and cafile together?',\n",
      " 'SpaCy install error -- ImportError: cannot import name remove_bilu_prefix',\n",
      " 'How to exit a thread when exception happen without affecting other threads '\n",
      " 'and the whole program',\n",
      " 'Multithreading python-requests on GKE',\n",
      " 'how can i know if the variable is defined or not in python?',\n",
      " 'Python typing: overload based on length of tuple argument',\n",
      " 'Joining two dataframes causes all data to be coalesced into one partition, '\n",
      " 'even when broadcasted',\n",
      " 'Why does my asyncio function stop after the first task?',\n",
      " 'Got must be real number, not BadRequest error when I am trying to return '\n",
      " 'http error',\n",
      " 'how to run a task at some point in time in python flask',\n",
      " 'ValueError using vstack: all the input array dimensions for the '\n",
      " 'concatenation axis must match exactly',\n",
      " 'Find min values between n dates given m ranges',\n",
      " 'Having trouble assigning different variables in the main module for an '\n",
      " 'assignment I have',\n",
      " 'split a list of strings on multiple delimiters python',\n",
      " 'How to save multiple model object instances using one single form in django?',\n",
      " 'Python tkinter not working on chrome os (linux terminal)',\n",
      " 'I am getting 100% accuracy in my decision tree model. Where I was wrong?',\n",
      " 'Chrome driver not finding ID nor replacing them, what am I doing wrong?',\n",
      " 'roboflow yoloV5 training same size problem',\n",
      " 'Gym Environment Call',\n",
      " 'How to apply 1/σ^2 weight matrix to find Weighted Least Squares Solution',\n",
      " 'Parallelize 20K requests + filter &amp; concat results into 1 dataframe']\n"
     ]
    }
   ],
   "source": [
    "pprint(questions)"
   ]
  },
  {
   "cell_type": "code",
   "execution_count": null,
   "id": "fff626fa",
   "metadata": {},
   "outputs": [],
   "source": []
  }
 ],
 "metadata": {
  "kernelspec": {
   "display_name": "Python 3",
   "language": "python",
   "name": "python3"
  },
  "language_info": {
   "codemirror_mode": {
    "name": "ipython",
    "version": 3
   },
   "file_extension": ".py",
   "mimetype": "text/x-python",
   "name": "python",
   "nbconvert_exporter": "python",
   "pygments_lexer": "ipython3",
   "version": "3.9.2"
  }
 },
 "nbformat": 4,
 "nbformat_minor": 5
}
